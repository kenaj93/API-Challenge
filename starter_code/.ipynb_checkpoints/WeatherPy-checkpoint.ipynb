{
 "cells": [
  {
   "cell_type": "markdown",
   "metadata": {},
   "source": [
    "# WeatherPy\n",
    "----\n",
    "\n",
    "#### Note\n",
    "* Instructions have been included for each segment. You do not have to follow them exactly, but they are included to help you think through the steps."
   ]
  },
  {
   "cell_type": "code",
   "execution_count": 1,
   "metadata": {
    "scrolled": true
   },
   "outputs": [],
   "source": [
    "# Dependencies and Setup\n",
    "import csv\n",
    "import matplotlib.pyplot as plt\n",
    "import pandas as pd\n",
    "import numpy as np\n",
    "import requests\n",
    "import time\n",
    "from scipy import stats\n",
    "from scipy.stats import linregress\n",
    "\n",
    "# Incorporated citipy to determine city based on latitude and longitude\n",
    "from citipy import citipy\n",
    "\n",
    "# Import API key\n",
    "from api_keys import weather_api_key\n",
    "\n",
    "\n",
    "\n",
    "# Output File (CSV)\n",
    "output_data_file = \"output_data/cities.csv\"\n",
    "\n",
    "# Range of latitudes and longitudes\n",
    "lat_range = (-90, 90)\n",
    "lng_range = (-180, 180)"
   ]
  },
  {
   "cell_type": "markdown",
   "metadata": {},
   "source": [
    "## Generate Cities List"
   ]
  },
  {
   "cell_type": "code",
   "execution_count": 2,
   "metadata": {},
   "outputs": [
    {
     "data": {
      "text/plain": [
       "635"
      ]
     },
     "execution_count": 2,
     "metadata": {},
     "output_type": "execute_result"
    }
   ],
   "source": [
    "# List for holding lat_lngs and cities\n",
    "lat_lngs = []\n",
    "cities = []\n",
    "\n",
    "# Create a set of random lat and lng combinations\n",
    "lats = np.random.uniform(lat_range[0], lat_range[1], size=1500)\n",
    "lngs = np.random.uniform(lng_range[0], lng_range[1], size=1500)\n",
    "lat_lngs = zip(lats, lngs)\n",
    "\n",
    "# Identify nearest city for each lat, lng combination\n",
    "for lat_lng in lat_lngs:\n",
    "    city = citipy.nearest_city(lat_lng[0], lat_lng[1]).city_name\n",
    "    \n",
    "    # If the city is unique, then add it to a our cities list\n",
    "    if city not in cities:\n",
    "        cities.append(city)\n",
    "\n",
    "# Print the city count to confirm sufficient count\n",
    "len(cities)"
   ]
  },
  {
   "cell_type": "markdown",
   "metadata": {},
   "source": [
    "### Perform API Calls\n",
    "* Perform a weather check on each city using a series of successive API calls.\n",
    "* Include a print log of each city as it'sbeing processed (with the city number and city name).\n"
   ]
  },
  {
   "cell_type": "code",
   "execution_count": 3,
   "metadata": {},
   "outputs": [
    {
     "name": "stdout",
     "output_type": "stream",
     "text": [
      "illoqqortoormiut\n",
      "City not found.illoqqortoormiut\n",
      "arraial do cabo\n",
      "chokurdakh\n",
      "olafsvik\n",
      "tuktoyaktuk\n",
      "benguela\n",
      "lompoc\n",
      "saint george\n",
      "kaniv\n",
      "adrar\n",
      "rikitea\n",
      "kijang\n",
      "kapaa\n",
      "narsaq\n",
      "sao joao da barra\n",
      "dekar\n",
      "thompson\n",
      "cidreira\n",
      "sisimiut\n",
      "castro\n",
      "vila velha\n",
      "avarua\n",
      "paamiut\n",
      "saint-philippe\n",
      "hualmay\n",
      "hay river\n",
      "yurginskoye\n",
      "cabo san lucas\n",
      "carnarvon\n",
      "severo-kurilsk\n",
      "puerto escondido\n",
      "albany\n",
      "mar del plata\n",
      "kuche\n",
      "City not found.kuche\n",
      "barentsburg\n",
      "City not found.barentsburg\n",
      "sitka\n",
      "atuona\n",
      "khatanga\n",
      "guerrero negro\n",
      "pacific grove\n",
      "barrow\n",
      "namatanai\n",
      "arilje\n",
      "lagoa\n",
      "provideniya\n",
      "lorengau\n",
      "ushuaia\n",
      "butaritari\n",
      "punta arenas\n",
      "bonito\n",
      "ilulissat\n",
      "shushtar\n",
      "wattegama\n",
      "georgetown\n",
      "ossora\n",
      "port alfred\n",
      "caconda\n",
      "maldonado\n",
      "san patricio\n",
      "srednekolymsk\n",
      "bluff\n",
      "ballina\n",
      "mataura\n",
      "grand gaube\n",
      "nabire\n",
      "mys shmidta\n",
      "City not found.mys shmidta\n",
      "hermanus\n",
      "vaini\n",
      "saskylakh\n",
      "ranong\n",
      "hasaki\n",
      "goundam\n",
      "babanusah\n",
      "City not found.babanusah\n",
      "barra patuca\n",
      "huaihua\n",
      "east london\n",
      "saryshagan\n",
      "City not found.saryshagan\n",
      "bethel\n",
      "dikson\n",
      "hamilton\n",
      "biltine\n",
      "kajaani\n",
      "hobart\n",
      "vestmannaeyjar\n",
      "lodwar\n",
      "nuuk\n",
      "hithadhoo\n",
      "suleja\n",
      "hirara\n",
      "laguna\n",
      "catuday\n",
      "galesong\n",
      "tyup\n",
      "birjand\n",
      "kampot\n",
      "urdzhar\n",
      "City not found.urdzhar\n",
      "colares\n",
      "moerai\n",
      "tchibanga\n",
      "richards bay\n",
      "terrace bay\n",
      "busselton\n",
      "katsuura\n",
      "leme\n",
      "attawapiskat\n",
      "City not found.attawapiskat\n",
      "kuhdasht\n",
      "evanston\n",
      "halifax\n",
      "bayevo\n",
      "avera\n",
      "llangefni\n",
      "karcsa\n",
      "mehamn\n",
      "tiksi\n",
      "mutsamudu\n",
      "City not found.mutsamudu\n",
      "prattville\n",
      "tura\n",
      "salalah\n",
      "broome\n",
      "broken hill\n",
      "linxia\n",
      "pevek\n",
      "mayumba\n",
      "esperance\n",
      "faanui\n",
      "velikie luki\n",
      "City not found.velikie luki\n",
      "katobu\n",
      "shiraz\n",
      "cape town\n",
      "sentyabrskiy\n",
      "City not found.sentyabrskiy\n",
      "monrovia\n",
      "manhattan\n",
      "antalaha\n",
      "buraydah\n",
      "prince rupert\n",
      "yellowknife\n",
      "umm durman\n",
      "City not found.umm durman\n",
      "jadu\n",
      "bilma\n",
      "miyako\n",
      "lata\n",
      "bilibino\n",
      "troitskoye\n",
      "toliary\n",
      "City not found.toliary\n",
      "westport\n",
      "katherine\n",
      "klaksvik\n",
      "vila\n",
      "formosa\n",
      "lahij\n",
      "port hardy\n",
      "xirokambos\n",
      "City not found.xirokambos\n",
      "new norfolk\n",
      "mahebourg\n",
      "morondava\n",
      "korhogo\n",
      "schwerin\n",
      "boa vista\n",
      "nikolskoye\n",
      "erzin\n",
      "shakawe\n",
      "half moon bay\n",
      "alta floresta\n",
      "coos bay\n",
      "taolanaro\n",
      "City not found.taolanaro\n",
      "margate\n",
      "valera\n",
      "hilo\n",
      "ponta do sol\n",
      "lopsmarka\n",
      "husavik\n",
      "port lincoln\n",
      "bathsheba\n",
      "luba\n",
      "kitimat\n",
      "norman wells\n",
      "vaitupu\n",
      "City not found.vaitupu\n",
      "willmar\n",
      "alofi\n",
      "morgan city\n",
      "saldanha\n",
      "frontera\n",
      "bonavista\n",
      "sakakah\n",
      "mongoumba\n",
      "belmonte\n",
      "bacuit\n",
      "City not found.bacuit\n",
      "beisfjord\n",
      "amderma\n",
      "City not found.amderma\n",
      "dingle\n",
      "lavrentiya\n",
      "mattru\n",
      "batagay-alyta\n",
      "port elizabeth\n",
      "jamestown\n",
      "nemuro\n",
      "sladkovo\n",
      "niono\n",
      "vanimo\n",
      "ola\n",
      "mamontovo\n",
      "upernavik\n",
      "porto novo\n",
      "puerto ayora\n",
      "sechura\n",
      "phan rang\n",
      "City not found.phan rang\n",
      "lock haven\n",
      "wamba\n",
      "djibo\n",
      "requena\n",
      "bulgan\n",
      "naze\n",
      "puerto pinasco\n",
      "City not found.puerto pinasco\n",
      "milkovo\n",
      "artyk\n",
      "City not found.artyk\n",
      "souillac\n",
      "khulna\n",
      "belushya guba\n",
      "City not found.belushya guba\n",
      "binzhou\n",
      "oranjestad\n",
      "west fargo\n",
      "saint anthony\n",
      "tobolsk\n",
      "lebu\n",
      "marienburg\n",
      "tumannyy\n",
      "City not found.tumannyy\n",
      "hovd\n",
      "garowe\n",
      "los llanos de aridane\n",
      "victoria\n",
      "kronberg\n",
      "kutum\n",
      "kemijarvi\n",
      "francistown\n",
      "bentiu\n",
      "ak-dovurak\n",
      "sisophon\n",
      "christchurch\n",
      "la ronge\n",
      "jurado\n",
      "gat\n",
      "rokupr\n",
      "bowen\n",
      "erzurum\n",
      "babylon\n",
      "rocha\n",
      "bredasdorp\n",
      "cacapava do sul\n",
      "athabasca\n",
      "nouadhibou\n",
      "port moresby\n",
      "chaoyang\n",
      "iqaluit\n",
      "oudtshoorn\n",
      "mpika\n",
      "kyshtovka\n",
      "xico\n",
      "zeerust\n",
      "guangyuan\n",
      "nahrin\n",
      "ask\n",
      "maceio\n",
      "tasiilaq\n",
      "ixtapa\n",
      "kawalu\n",
      "tona\n",
      "shingu\n",
      "torbay\n",
      "hambantota\n",
      "lusambo\n",
      "san policarpo\n",
      "port macquarie\n",
      "teguise\n",
      "comodoro rivadavia\n",
      "meulaboh\n",
      "bubaque\n",
      "vila franca do campo\n",
      "seoul\n",
      "songea\n",
      "russell\n",
      "njeru\n",
      "maniitsoq\n",
      "maragogi\n",
      "leningradskiy\n",
      "sao joaquim\n",
      "vangaindrano\n",
      "rio gallegos\n",
      "velyka bahachka\n",
      "geraldton\n",
      "san luis\n",
      "ancud\n",
      "lubango\n",
      "fortuna\n",
      "kudahuvadhoo\n",
      "itaqui\n",
      "panguna\n",
      "umm kaddadah\n",
      "bambous virieux\n",
      "jalu\n",
      "shimoda\n",
      "coquimbo\n",
      "goderich\n",
      "duz\n",
      "City not found.duz\n",
      "lermontovka\n",
      "tual\n",
      "caorle\n",
      "aksu\n",
      "bargal\n",
      "City not found.bargal\n",
      "ayan\n",
      "fort saint john\n",
      "City not found.fort saint john\n",
      "college\n",
      "labuhan\n",
      "tshikapa\n",
      "sassandra\n",
      "bahia blanca\n",
      "fort nelson\n",
      "mughal sarai\n",
      "kaeo\n",
      "karauzyak\n",
      "City not found.karauzyak\n",
      "tsihombe\n",
      "City not found.tsihombe\n",
      "great bend\n",
      "ust-kamchatsk\n",
      "City not found.ust-kamchatsk\n",
      "gidole\n",
      "shache\n",
      "eureka\n",
      "katangli\n",
      "padang\n",
      "carutapera\n",
      "orebro\n",
      "callaway\n",
      "aquiraz\n",
      "chuy\n",
      "darhan\n",
      "mezen\n",
      "loiza\n",
      "halalo\n",
      "City not found.halalo\n",
      "salekhard\n",
      "havre-saint-pierre\n",
      "codrington\n",
      "marawi\n",
      "grand forks\n",
      "eha amufu\n",
      "kaitangata\n",
      "grand river south east\n",
      "City not found.grand river south east\n",
      "cascais\n",
      "saint-pierre\n",
      "huangmei\n",
      "muros\n",
      "dalbandin\n",
      "mahon\n",
      "pangnirtung\n",
      "sao filipe\n",
      "vostok\n",
      "narsingdi\n",
      "yerbogachen\n",
      "kavieng\n",
      "sorland\n",
      "qaanaaq\n",
      "sesheke\n",
      "praya\n",
      "isangel\n",
      "luderitz\n",
      "kuala terengganu\n",
      "yei\n",
      "palotina\n",
      "pervomayskoye\n",
      "presidencia roque saenz pena\n",
      "longyearbyen\n",
      "belyy yar\n",
      "port blair\n",
      "methoni\n",
      "longyan\n",
      "turukhansk\n",
      "yumen\n",
      "cayenne\n",
      "talnakh\n",
      "colquechaca\n",
      "kulhudhuffushi\n",
      "sola\n",
      "ojinaga\n",
      "cabedelo\n",
      "banjar\n",
      "malangwa\n",
      "amapa\n",
      "albuquerque\n",
      "whitehorse\n",
      "cockburn town\n",
      "ergolding\n",
      "ambon\n",
      "grindavik\n",
      "saint-ambroise\n",
      "tabora\n",
      "faya\n",
      "erenhot\n",
      "petropavlovka\n",
      "abu dhabi\n",
      "te anau\n",
      "chimore\n",
      "bengkulu\n",
      "dzhebariki-khaya\n",
      "karatau\n",
      "adre\n",
      "mahibadhoo\n",
      "lasa\n",
      "rognan\n",
      "micheweni\n",
      "amalapuram\n",
      "warqla\n",
      "City not found.warqla\n",
      "stornoway\n",
      "sambava\n",
      "dakar\n",
      "raymondville\n",
      "forchheim\n",
      "kupino\n",
      "katsina\n",
      "marzuq\n",
      "sangar\n",
      "pithoro\n",
      "sabang\n",
      "bobo dioulasso\n",
      "kawana waters\n",
      "City not found.kawana waters\n",
      "port hawkesbury\n",
      "rawannawi\n",
      "City not found.rawannawi\n",
      "ribeira grande\n",
      "cherskiy\n",
      "wanning\n",
      "kruisfontein\n",
      "kieta\n",
      "inongo\n",
      "baykit\n",
      "gimli\n",
      "ormara\n",
      "marrakesh\n",
      "gorno-chuyskiy\n",
      "City not found.gorno-chuyskiy\n",
      "zhangye\n",
      "linjiang\n",
      "lolua\n",
      "City not found.lolua\n",
      "keetmanshoop\n",
      "plettenberg bay\n",
      "mogadishu\n",
      "kyren\n",
      "coihaique\n",
      "kahului\n",
      "pisco\n",
      "massakory\n",
      "rungata\n",
      "City not found.rungata\n",
      "daru\n",
      "flin flon\n",
      "duldurga\n",
      "meyungs\n",
      "City not found.meyungs\n",
      "ulladulla\n",
      "cairns\n",
      "santiago de cao\n",
      "lazaro cardenas\n",
      "atar\n",
      "shaunavon\n",
      "puerto madryn\n",
      "yar-sale\n",
      "constitucion\n",
      "la presa\n",
      "quatre cocos\n",
      "verkhoyansk\n",
      "dunedin\n",
      "killybegs\n",
      "saleaula\n",
      "City not found.saleaula\n",
      "portland\n",
      "abasolo\n",
      "mayor pablo lagerenza\n",
      "nizhneyansk\n",
      "City not found.nizhneyansk\n",
      "lazarev\n",
      "high level\n",
      "beloha\n",
      "rodeo\n",
      "kutahya\n",
      "tazovskiy\n",
      "workington\n",
      "aklavik\n",
      "pozo colorado\n",
      "hof\n",
      "maarianhamina\n",
      "smithers\n",
      "north platte\n",
      "marsa matruh\n",
      "ceres\n",
      "brae\n",
      "tuxpan\n",
      "ruteng\n",
      "kiunga\n",
      "marystown\n",
      "erdenet\n",
      "deputatskiy\n",
      "vicuna\n",
      "port hedland\n",
      "san ramon\n",
      "kodiak\n",
      "wapakoneta\n",
      "mumbwa\n",
      "karaul\n",
      "City not found.karaul\n",
      "tessalit\n",
      "coleraine\n",
      "ereymentau\n",
      "binga\n",
      "samusu\n",
      "City not found.samusu\n",
      "morant bay\n",
      "sergeyevka\n",
      "baijiantan\n",
      "bossangoa\n",
      "collie\n",
      "kavaratti\n",
      "sembe\n",
      "springfield\n",
      "tromso\n",
      "peace river\n",
      "nanortalik\n",
      "stolin\n",
      "bairiki\n",
      "shkotovo-26\n",
      "City not found.shkotovo-26\n",
      "ouadda\n",
      "boende\n",
      "jackson\n",
      "flinders\n",
      "viedma\n",
      "poum\n",
      "semnan\n",
      "oktyabrskiy\n",
      "clyde river\n",
      "araouane\n",
      "luau\n",
      "ostrovnoy\n",
      "coahuayana\n",
      "salym\n",
      "palm coast\n",
      "reo\n",
      "yabrud\n",
      "korla\n",
      "gangapur\n",
      "sobral\n",
      "gorontalo\n",
      "myitkyina\n",
      "kushmurun\n",
      "clarksburg\n",
      "utete\n",
      "bacolod\n",
      "pingliang\n",
      "vao\n",
      "aragarcas\n",
      "sovetskaya gavan\n",
      "soja\n",
      "atambua\n",
      "terney\n",
      "baghdad\n",
      "carberry\n",
      "denpasar\n",
      "alghero\n",
      "sioux lookout\n",
      "nouakchott\n",
      "fairbanks\n",
      "marv dasht\n",
      "City not found.marv dasht\n",
      "dom pedro\n",
      "nyamuswa\n",
      "dauphin\n",
      "port-cartier\n",
      "havoysund\n",
      "brake\n",
      "airai\n",
      "touros\n",
      "tuatapere\n",
      "mount gambier\n",
      "ketchikan\n",
      "brainerd\n",
      "udachnyy\n",
      "kismayo\n",
      "yulara\n",
      "caravelas\n",
      "fenton\n",
      "warmbad\n",
      "likasi\n",
      "moshenskoye\n",
      "sarangani\n",
      "vung tau\n",
      "sinjar\n",
      "butembo\n",
      "mansoa\n",
      "nome\n",
      "cotonou\n",
      "tabiauea\n",
      "City not found.tabiauea\n",
      "panacan\n",
      "ivanava\n",
      "cabadiangan\n",
      "ahuimanu\n",
      "xai-xai\n",
      "camacha\n",
      "porterville\n",
      "ilinsko-podomskoye\n",
      "City not found.ilinsko-podomskoye\n",
      "sonqor\n",
      "huddersfield\n",
      "siocon\n",
      "el alto\n",
      "olinda\n",
      "soyo\n",
      "acapulco\n",
      "maglajani\n",
      "girvan\n",
      "raudeberg\n",
      "tautira\n",
      "hami\n",
      "luganville\n",
      "abu samrah\n",
      "kurilsk\n",
      "grand-santi\n",
      "wangaratta\n",
      "xining\n",
      "barentu\n",
      "launceston\n",
      "gomel\n",
      "mount isa\n",
      "upington\n",
      "churapcha\n",
      "naryan-mar\n",
      "corinto\n",
      "tabatinga\n",
      "yeppoon\n",
      "tarudant\n",
      "City not found.tarudant\n",
      "racovita\n",
      "blonduos\n",
      "City not found.blonduos\n",
      "nyurba\n",
      "ratnagiri\n",
      "noyabrsk\n",
      "beringovskiy\n",
      "karpogory\n",
      "makakilo city\n",
      "pathardi\n",
      "emba\n",
      "laredo\n",
      "puerto parra\n"
     ]
    }
   ],
   "source": [
    "base_url = \"http://api.openweathermap.org/data/2.5/weather?\"\n",
    "units = \"imperial\"\n",
    "\n",
    "# Build partial query URL\n",
    "query_url = f\"{base_url}appid={weather_api_key}&units={units}&q=\"\n",
    "\n",
    "\n",
    "# set up lists to hold response data for cities and weather\n",
    "citi = []\n",
    "lat = []\n",
    "lon = []\n",
    "temp = []\n",
    "humidity = []\n",
    "clouds = []\n",
    "wind = []\n",
    "country = []\n",
    "dt = []\n",
    "\n",
    "# Loop through the list of cities and perform a request for data on each\n",
    "for city in cities:\n",
    "    try:\n",
    "        print(city)\n",
    "        response = requests.get(query_url + city).json()\n",
    "        lat.append(response['coord']['lat'])\n",
    "        lon.append(response['coord']['lon'])                             \n",
    "        temp.append(response['main']['temp'])\n",
    "        humidity.append(response['main']['humidity'])\n",
    "        clouds.append(response['clouds']['all'])\n",
    "        wind.append(response['wind']['speed'])\n",
    "        country.append(response['sys']['country'])\n",
    "        dt.append(response['dt'])\n",
    "        citi.append(city)\n",
    "    except:\n",
    "        print(\"City not found.\" + city)\n",
    "                                 \n",
    "weather_df = pd.DataFrame({\"City\":citi,\n",
    "                           \"Lat\":lat,\n",
    "                           \"Lon\":lon,\n",
    "                           \"Temp\":temp,\n",
    "                           \"Humidity\":humidity,\n",
    "                           \"Clouds\":clouds,\n",
    "                           \"Wind\":wind,\n",
    "                           \"Country\":country,\n",
    "                           \"Date\":dt})\n",
    "                                                         "
   ]
  },
  {
   "cell_type": "markdown",
   "metadata": {},
   "source": [
    "### Convert Raw Data to DataFrame\n",
    "* Export the city data into a .csv.\n",
    "* Display the DataFrame"
   ]
  },
  {
   "cell_type": "code",
   "execution_count": 4,
   "metadata": {},
   "outputs": [
    {
     "data": {
      "text/plain": [
       "City        587\n",
       "Lat         587\n",
       "Lon         587\n",
       "Temp        587\n",
       "Humidity    587\n",
       "Clouds      587\n",
       "Wind        587\n",
       "Country     587\n",
       "Date        587\n",
       "dtype: int64"
      ]
     },
     "execution_count": 4,
     "metadata": {},
     "output_type": "execute_result"
    }
   ],
   "source": [
    "weather_df.count()"
   ]
  },
  {
   "cell_type": "code",
   "execution_count": 5,
   "metadata": {},
   "outputs": [],
   "source": [
    "weather_df.to_csv(\"Weather.csv\", encoding='utf-8', index=False)"
   ]
  },
  {
   "cell_type": "code",
   "execution_count": 6,
   "metadata": {},
   "outputs": [
    {
     "data": {
      "text/html": [
       "<div>\n",
       "<style scoped>\n",
       "    .dataframe tbody tr th:only-of-type {\n",
       "        vertical-align: middle;\n",
       "    }\n",
       "\n",
       "    .dataframe tbody tr th {\n",
       "        vertical-align: top;\n",
       "    }\n",
       "\n",
       "    .dataframe thead th {\n",
       "        text-align: right;\n",
       "    }\n",
       "</style>\n",
       "<table border=\"1\" class=\"dataframe\">\n",
       "  <thead>\n",
       "    <tr style=\"text-align: right;\">\n",
       "      <th></th>\n",
       "      <th>City</th>\n",
       "      <th>Lat</th>\n",
       "      <th>Lon</th>\n",
       "      <th>Temp</th>\n",
       "      <th>Humidity</th>\n",
       "      <th>Clouds</th>\n",
       "      <th>Wind</th>\n",
       "      <th>Country</th>\n",
       "      <th>Date</th>\n",
       "    </tr>\n",
       "  </thead>\n",
       "  <tbody>\n",
       "    <tr>\n",
       "      <th>0</th>\n",
       "      <td>arraial do cabo</td>\n",
       "      <td>-22.97</td>\n",
       "      <td>-42.03</td>\n",
       "      <td>77.77</td>\n",
       "      <td>57</td>\n",
       "      <td>0</td>\n",
       "      <td>19.46</td>\n",
       "      <td>BR</td>\n",
       "      <td>1596819136</td>\n",
       "    </tr>\n",
       "    <tr>\n",
       "      <th>1</th>\n",
       "      <td>chokurdakh</td>\n",
       "      <td>70.63</td>\n",
       "      <td>147.92</td>\n",
       "      <td>47.50</td>\n",
       "      <td>93</td>\n",
       "      <td>87</td>\n",
       "      <td>5.41</td>\n",
       "      <td>RU</td>\n",
       "      <td>1596819136</td>\n",
       "    </tr>\n",
       "    <tr>\n",
       "      <th>2</th>\n",
       "      <td>olafsvik</td>\n",
       "      <td>64.89</td>\n",
       "      <td>-23.71</td>\n",
       "      <td>48.34</td>\n",
       "      <td>86</td>\n",
       "      <td>100</td>\n",
       "      <td>20.07</td>\n",
       "      <td>IS</td>\n",
       "      <td>1596819136</td>\n",
       "    </tr>\n",
       "    <tr>\n",
       "      <th>3</th>\n",
       "      <td>tuktoyaktuk</td>\n",
       "      <td>69.45</td>\n",
       "      <td>-133.04</td>\n",
       "      <td>59.00</td>\n",
       "      <td>82</td>\n",
       "      <td>75</td>\n",
       "      <td>13.87</td>\n",
       "      <td>CA</td>\n",
       "      <td>1596819136</td>\n",
       "    </tr>\n",
       "    <tr>\n",
       "      <th>4</th>\n",
       "      <td>benguela</td>\n",
       "      <td>-12.58</td>\n",
       "      <td>13.41</td>\n",
       "      <td>70.88</td>\n",
       "      <td>79</td>\n",
       "      <td>12</td>\n",
       "      <td>8.01</td>\n",
       "      <td>AO</td>\n",
       "      <td>1596819136</td>\n",
       "    </tr>\n",
       "    <tr>\n",
       "      <th>5</th>\n",
       "      <td>lompoc</td>\n",
       "      <td>34.64</td>\n",
       "      <td>-120.46</td>\n",
       "      <td>56.19</td>\n",
       "      <td>87</td>\n",
       "      <td>90</td>\n",
       "      <td>11.41</td>\n",
       "      <td>US</td>\n",
       "      <td>1596819136</td>\n",
       "    </tr>\n",
       "    <tr>\n",
       "      <th>6</th>\n",
       "      <td>saint george</td>\n",
       "      <td>37.10</td>\n",
       "      <td>-113.58</td>\n",
       "      <td>84.81</td>\n",
       "      <td>12</td>\n",
       "      <td>1</td>\n",
       "      <td>3.36</td>\n",
       "      <td>US</td>\n",
       "      <td>1596819137</td>\n",
       "    </tr>\n",
       "    <tr>\n",
       "      <th>7</th>\n",
       "      <td>kaniv</td>\n",
       "      <td>49.75</td>\n",
       "      <td>31.46</td>\n",
       "      <td>75.85</td>\n",
       "      <td>73</td>\n",
       "      <td>0</td>\n",
       "      <td>11.59</td>\n",
       "      <td>UA</td>\n",
       "      <td>1596819137</td>\n",
       "    </tr>\n",
       "    <tr>\n",
       "      <th>8</th>\n",
       "      <td>adrar</td>\n",
       "      <td>20.50</td>\n",
       "      <td>-10.07</td>\n",
       "      <td>107.31</td>\n",
       "      <td>13</td>\n",
       "      <td>0</td>\n",
       "      <td>13.76</td>\n",
       "      <td>MR</td>\n",
       "      <td>1596819137</td>\n",
       "    </tr>\n",
       "    <tr>\n",
       "      <th>9</th>\n",
       "      <td>rikitea</td>\n",
       "      <td>-23.12</td>\n",
       "      <td>-134.97</td>\n",
       "      <td>69.60</td>\n",
       "      <td>66</td>\n",
       "      <td>96</td>\n",
       "      <td>16.51</td>\n",
       "      <td>PF</td>\n",
       "      <td>1596819137</td>\n",
       "    </tr>\n",
       "  </tbody>\n",
       "</table>\n",
       "</div>"
      ],
      "text/plain": [
       "              City    Lat     Lon    Temp  Humidity  Clouds   Wind Country  \\\n",
       "0  arraial do cabo -22.97  -42.03   77.77        57       0  19.46      BR   \n",
       "1       chokurdakh  70.63  147.92   47.50        93      87   5.41      RU   \n",
       "2         olafsvik  64.89  -23.71   48.34        86     100  20.07      IS   \n",
       "3      tuktoyaktuk  69.45 -133.04   59.00        82      75  13.87      CA   \n",
       "4         benguela -12.58   13.41   70.88        79      12   8.01      AO   \n",
       "5           lompoc  34.64 -120.46   56.19        87      90  11.41      US   \n",
       "6     saint george  37.10 -113.58   84.81        12       1   3.36      US   \n",
       "7            kaniv  49.75   31.46   75.85        73       0  11.59      UA   \n",
       "8            adrar  20.50  -10.07  107.31        13       0  13.76      MR   \n",
       "9          rikitea -23.12 -134.97   69.60        66      96  16.51      PF   \n",
       "\n",
       "         Date  \n",
       "0  1596819136  \n",
       "1  1596819136  \n",
       "2  1596819136  \n",
       "3  1596819136  \n",
       "4  1596819136  \n",
       "5  1596819136  \n",
       "6  1596819137  \n",
       "7  1596819137  \n",
       "8  1596819137  \n",
       "9  1596819137  "
      ]
     },
     "execution_count": 6,
     "metadata": {},
     "output_type": "execute_result"
    }
   ],
   "source": [
    "weather_df.head(10)"
   ]
  },
  {
   "cell_type": "markdown",
   "metadata": {},
   "source": [
    "## Inspect the data and remove the cities where the humidity > 100%.\n",
    "----\n",
    "Skip this step if there are no cities that have humidity > 100%. "
   ]
  },
  {
   "cell_type": "code",
   "execution_count": 7,
   "metadata": {},
   "outputs": [
    {
     "data": {
      "text/html": [
       "<div>\n",
       "<style scoped>\n",
       "    .dataframe tbody tr th:only-of-type {\n",
       "        vertical-align: middle;\n",
       "    }\n",
       "\n",
       "    .dataframe tbody tr th {\n",
       "        vertical-align: top;\n",
       "    }\n",
       "\n",
       "    .dataframe thead th {\n",
       "        text-align: right;\n",
       "    }\n",
       "</style>\n",
       "<table border=\"1\" class=\"dataframe\">\n",
       "  <thead>\n",
       "    <tr style=\"text-align: right;\">\n",
       "      <th></th>\n",
       "      <th>Lat</th>\n",
       "      <th>Lon</th>\n",
       "      <th>Temp</th>\n",
       "      <th>Humidity</th>\n",
       "      <th>Clouds</th>\n",
       "      <th>Wind</th>\n",
       "      <th>Date</th>\n",
       "    </tr>\n",
       "  </thead>\n",
       "  <tbody>\n",
       "    <tr>\n",
       "      <th>count</th>\n",
       "      <td>587.000000</td>\n",
       "      <td>587.000000</td>\n",
       "      <td>587.000000</td>\n",
       "      <td>587.000000</td>\n",
       "      <td>587.000000</td>\n",
       "      <td>587.000000</td>\n",
       "      <td>5.870000e+02</td>\n",
       "    </tr>\n",
       "    <tr>\n",
       "      <th>mean</th>\n",
       "      <td>20.488416</td>\n",
       "      <td>16.564072</td>\n",
       "      <td>70.726968</td>\n",
       "      <td>67.586031</td>\n",
       "      <td>49.880750</td>\n",
       "      <td>8.097036</td>\n",
       "      <td>1.596819e+09</td>\n",
       "    </tr>\n",
       "    <tr>\n",
       "      <th>std</th>\n",
       "      <td>33.123269</td>\n",
       "      <td>89.479699</td>\n",
       "      <td>14.190853</td>\n",
       "      <td>22.394478</td>\n",
       "      <td>37.769908</td>\n",
       "      <td>5.303259</td>\n",
       "      <td>5.647477e+01</td>\n",
       "    </tr>\n",
       "    <tr>\n",
       "      <th>min</th>\n",
       "      <td>-54.800000</td>\n",
       "      <td>-175.200000</td>\n",
       "      <td>34.410000</td>\n",
       "      <td>1.000000</td>\n",
       "      <td>0.000000</td>\n",
       "      <td>0.180000</td>\n",
       "      <td>1.596819e+09</td>\n",
       "    </tr>\n",
       "    <tr>\n",
       "      <th>25%</th>\n",
       "      <td>-6.125000</td>\n",
       "      <td>-59.980000</td>\n",
       "      <td>59.765000</td>\n",
       "      <td>57.000000</td>\n",
       "      <td>12.000000</td>\n",
       "      <td>4.000000</td>\n",
       "      <td>1.596819e+09</td>\n",
       "    </tr>\n",
       "    <tr>\n",
       "      <th>50%</th>\n",
       "      <td>25.110000</td>\n",
       "      <td>20.800000</td>\n",
       "      <td>73.420000</td>\n",
       "      <td>73.000000</td>\n",
       "      <td>45.000000</td>\n",
       "      <td>6.930000</td>\n",
       "      <td>1.596819e+09</td>\n",
       "    </tr>\n",
       "    <tr>\n",
       "      <th>75%</th>\n",
       "      <td>48.820000</td>\n",
       "      <td>92.195000</td>\n",
       "      <td>80.600000</td>\n",
       "      <td>83.500000</td>\n",
       "      <td>90.000000</td>\n",
       "      <td>11.410000</td>\n",
       "      <td>1.596819e+09</td>\n",
       "    </tr>\n",
       "    <tr>\n",
       "      <th>max</th>\n",
       "      <td>78.220000</td>\n",
       "      <td>179.320000</td>\n",
       "      <td>108.320000</td>\n",
       "      <td>100.000000</td>\n",
       "      <td>100.000000</td>\n",
       "      <td>38.030000</td>\n",
       "      <td>1.596819e+09</td>\n",
       "    </tr>\n",
       "  </tbody>\n",
       "</table>\n",
       "</div>"
      ],
      "text/plain": [
       "              Lat         Lon        Temp    Humidity      Clouds        Wind  \\\n",
       "count  587.000000  587.000000  587.000000  587.000000  587.000000  587.000000   \n",
       "mean    20.488416   16.564072   70.726968   67.586031   49.880750    8.097036   \n",
       "std     33.123269   89.479699   14.190853   22.394478   37.769908    5.303259   \n",
       "min    -54.800000 -175.200000   34.410000    1.000000    0.000000    0.180000   \n",
       "25%     -6.125000  -59.980000   59.765000   57.000000   12.000000    4.000000   \n",
       "50%     25.110000   20.800000   73.420000   73.000000   45.000000    6.930000   \n",
       "75%     48.820000   92.195000   80.600000   83.500000   90.000000   11.410000   \n",
       "max     78.220000  179.320000  108.320000  100.000000  100.000000   38.030000   \n",
       "\n",
       "               Date  \n",
       "count  5.870000e+02  \n",
       "mean   1.596819e+09  \n",
       "std    5.647477e+01  \n",
       "min    1.596819e+09  \n",
       "25%    1.596819e+09  \n",
       "50%    1.596819e+09  \n",
       "75%    1.596819e+09  \n",
       "max    1.596819e+09  "
      ]
     },
     "execution_count": 7,
     "metadata": {},
     "output_type": "execute_result"
    }
   ],
   "source": [
    "#find max humdity and see if it is over a hundred\n",
    "\n",
    "weather_df.describe()"
   ]
  },
  {
   "cell_type": "code",
   "execution_count": 8,
   "metadata": {},
   "outputs": [],
   "source": [
    "#Skipping this as there is no humidity over 100%"
   ]
  },
  {
   "cell_type": "code",
   "execution_count": 9,
   "metadata": {},
   "outputs": [],
   "source": [
    "#Make a new DataFrame equal to the city data to drop all humidity outliers by index.\n",
    "#Passing \"inplace=False\" will make a copy of the city_data DataFrame, which we call \"clean_city_data\".\n"
   ]
  },
  {
   "cell_type": "code",
   "execution_count": 10,
   "metadata": {},
   "outputs": [],
   "source": [
    "# Extract relevant fields from the data frame\n",
    "\n",
    "\n",
    "# Export the City_Data into a csv\n"
   ]
  },
  {
   "cell_type": "markdown",
   "metadata": {},
   "source": [
    "## Plotting the Data\n",
    "* Use proper labeling of the plots using plot titles (including date of analysis) and axes labels.\n",
    "* Save the plotted figures as .pngs."
   ]
  },
  {
   "cell_type": "markdown",
   "metadata": {},
   "source": [
    "## Latitude vs. Temperature Plot"
   ]
  },
  {
   "cell_type": "code",
   "execution_count": 11,
   "metadata": {
    "scrolled": true
   },
   "outputs": [
    {
     "data": {
      "image/png": "[encoded data removed]",
      "text/plain": [
       "<Figure size 432x288 with 1 Axes>"
      ]
     },
     "metadata": {
      "needs_background": "light"
     },
     "output_type": "display_data"
    }
   ],
   "source": [
    "# Build a scatter plot for each data type\n",
    "plt.scatter(weather_df[\"Lat\"], weather_df[\"Temp\"], marker=\"o\", s=10)\n",
    "\n",
    "# Incorporate the other graph properties\n",
    "plt.title(\"City Latitude vs. Max Temperature\")\n",
    "plt.ylabel(\"Max Temperature (F)\")\n",
    "plt.xlabel(\"Latitude\")\n",
    "plt.grid(True)\n",
    "\n",
    "# Save the figure\n",
    "plt.savefig(\"Lat_vs_Temp.png\")\n",
    "\n",
    "# Show plot\n",
    "plt.show()\n"
   ]
  },
  {
   "cell_type": "markdown",
   "metadata": {},
   "source": [
    "## Latitude vs. Humidity Plot"
   ]
  },
  {
   "cell_type": "code",
   "execution_count": 12,
   "metadata": {},
   "outputs": [
    {
     "data": {
      "image/png": "[encoded data removed]",
      "text/plain": [
       "<Figure size 432x288 with 1 Axes>"
      ]
     },
     "metadata": {
      "needs_background": "light"
     },
     "output_type": "display_data"
    }
   ],
   "source": [
    "# Build a scatter plot for each data type\n",
    "plt.scatter(weather_df[\"Lat\"], weather_df[\"Humidity\"], marker=\"o\")\n",
    "\n",
    "# Incorporate the other graph properties\n",
    "plt.title(\"City Latitude vs. Humidity\")\n",
    "plt.ylabel(\"Humidity\")\n",
    "plt.xlabel(\"Latitude\")\n",
    "plt.grid(True)\n",
    "\n",
    "# Save the figure\n",
    "plt.savefig(\"Lat_vs_Humidity.png\")\n",
    "\n",
    "# Show plot\n",
    "plt.show()"
   ]
  },
  {
   "cell_type": "markdown",
   "metadata": {},
   "source": [
    "## Latitude vs. Cloudiness Plot"
   ]
  },
  {
   "cell_type": "code",
   "execution_count": 13,
   "metadata": {},
   "outputs": [
    {
     "data": {
      "image/png": "[encoded data removed]",
      "text/plain": [
       "<Figure size 432x288 with 1 Axes>"
      ]
     },
     "metadata": {
      "needs_background": "light"
     },
     "output_type": "display_data"
    }
   ],
   "source": [
    "# Build a scatter plot for each data type\n",
    "plt.scatter(weather_df[\"Lat\"], weather_df[\"Clouds\"], marker=\"o\")\n",
    "\n",
    "# Incorporate the other graph properties\n",
    "plt.title(\"City Latitude vs. Cloudiness\")\n",
    "plt.ylabel(\"Cloudiness\")\n",
    "plt.xlabel(\"Latitude\")\n",
    "plt.grid(True)\n",
    "\n",
    "# Save the figure\n",
    "plt.savefig(\"Lat_vs_Clouds.png\")\n",
    "\n",
    "# Show plot\n",
    "plt.show()"
   ]
  },
  {
   "cell_type": "markdown",
   "metadata": {},
   "source": [
    "## Latitude vs. Wind Speed Plot"
   ]
  },
  {
   "cell_type": "code",
   "execution_count": 14,
   "metadata": {},
   "outputs": [
    {
     "data": {
      "image/png": "[encoded data removed]",
      "text/plain": [
       "<Figure size 432x288 with 1 Axes>"
      ]
     },
     "metadata": {
      "needs_background": "light"
     },
     "output_type": "display_data"
    }
   ],
   "source": [
    "# Build a scatter plot for each data type\n",
    "plt.scatter(weather_df[\"Lat\"], weather_df[\"Wind\"], marker=\"o\")\n",
    "\n",
    "# Incorporate the other graph properties\n",
    "plt.title(\"City Latitude vs. Windiness\")\n",
    "plt.ylabel(\"Wind Speed\")\n",
    "plt.xlabel(\"Latitude\")\n",
    "plt.grid(True)\n",
    "\n",
    "# Save the figure\n",
    "plt.savefig(\"Lat_vs_Wind.png\")\n",
    "\n",
    "# Show plot\n",
    "plt.show()"
   ]
  },
  {
   "cell_type": "markdown",
   "metadata": {},
   "source": [
    "## Linear Regression"
   ]
  },
  {
   "cell_type": "code",
   "execution_count": 16,
   "metadata": {},
   "outputs": [],
   "source": [
    "# OPTIONAL: Create a function to create Linear Regression plots\n",
    "def linear_reg_plot(df, title_name, y_column_name, y_label, file_name, xy):\n",
    "    x_values = df['Lat']\n",
    "    y_values = df[y_column_name]\n",
    "    (slope, intercept, rvalue, pvalue, stderr) = linregress(x_values, y_values)\n",
    "    regress_values = x_values * slope + intercept\n",
    "    line_eq = \"y = \" + str(round(slope,2)) + \"x +\" + str(round(intercept,2))\n",
    "    plt.scatter(x_values,y_values)\n",
    "    plt.plot(x_values,regress_values,\"r-\")\n",
    "    plt.xlabel('Latitude')\n",
    "    plt.ylabel(y_label)\n",
    "    plt.annotate(line_eq,xy,fontsize=15,color=\"red\")\n",
    "    plt.title(title_name)\n",
    "    \n",
    "    print(f\"The r-squared is: {rvalue}\")\n",
    "    \n",
    "    plt.savefig(file_name)"
   ]
  },
  {
   "cell_type": "code",
   "execution_count": 17,
   "metadata": {},
   "outputs": [],
   "source": [
    "# Create Northern and Southern Hemisphere DataFrames\n",
    "#.loc lat>0 and lat<0\n",
    "\n",
    "northern_df = weather_df.loc[weather_df['Lat'] > 0, :]\n",
    "southern_df = weather_df.loc[weather_df['Lat'] < 0, :]"
   ]
  },
  {
   "cell_type": "markdown",
   "metadata": {},
   "source": [
    "####  Northern Hemisphere - Max Temp vs. Latitude Linear Regression"
   ]
  },
  {
   "cell_type": "code",
   "execution_count": 25,
   "metadata": {},
   "outputs": [
    {
     "name": "stdout",
     "output_type": "stream",
     "text": [
      "The r-squared is: -0.6755317588636268\n"
     ]
    },
    {
     "data": {
      "image/png": "[encoded data removed]",
      "text/plain": [
       "<Figure size 432x288 with 1 Axes>"
      ]
     },
     "metadata": {
      "needs_background": "light"
     },
     "output_type": "display_data"
    }
   ],
   "source": [
    "linear_reg_plot(northern_df, 'Northern Max Temp Vs Latitude Regression', 'Temp', 'Temp','NorthernTemp_vs_Lat.png', (10,0)) "
   ]
  },
  {
   "cell_type": "markdown",
   "metadata": {},
   "source": [
    "####  Southern Hemisphere - Max Temp vs. Latitude Linear Regression"
   ]
  },
  {
   "cell_type": "code",
   "execution_count": 27,
   "metadata": {},
   "outputs": [
    {
     "name": "stdout",
     "output_type": "stream",
     "text": [
      "The r-squared is: 0.7759046305195156\n"
     ]
    },
    {
     "data": {
      "image/png": "[encoded data removed]",
      "text/plain": [
       "<Figure size 432x288 with 1 Axes>"
      ]
     },
     "metadata": {
      "needs_background": "light"
     },
     "output_type": "display_data"
    }
   ],
   "source": [
    "linear_reg_plot(southern_df, 'Southern Max Temp Vs Latitude Regression', 'Temp', 'Temp', 'SouthernTemp_Vs_Lat.png', (10,0)) "
   ]
  },
  {
   "cell_type": "markdown",
   "metadata": {},
   "source": [
    "####  Northern Hemisphere - Humidity (%) vs. Latitude Linear Regression"
   ]
  },
  {
   "cell_type": "code",
   "execution_count": 28,
   "metadata": {},
   "outputs": [
    {
     "name": "stdout",
     "output_type": "stream",
     "text": [
      "The r-squared is: 0.06707353436158014\n"
     ]
    },
    {
     "data": {
      "image/png": "[encoded data removed]",
      "text/plain": [
       "<Figure size 432x288 with 1 Axes>"
      ]
     },
     "metadata": {
      "needs_background": "light"
     },
     "output_type": "display_data"
    }
   ],
   "source": [
    "linear_reg_plot(northern_df, 'Northern Humidity Vs Latitude Regression', 'Humidity', 'Humidity','Northern Humidity_vs_Lat.png', (10,0)) "
   ]
  },
  {
   "cell_type": "markdown",
   "metadata": {},
   "source": [
    "####  Southern Hemisphere - Humidity (%) vs. Latitude Linear Regression"
   ]
  },
  {
   "cell_type": "code",
   "execution_count": 29,
   "metadata": {},
   "outputs": [
    {
     "name": "stdout",
     "output_type": "stream",
     "text": [
      "The r-squared is: -0.006117045191072147\n"
     ]
    },
    {
     "data": {
      "image/png": "[encoded data removed]",
      "text/plain": [
       "<Figure size 432x288 with 1 Axes>"
      ]
     },
     "metadata": {
      "needs_background": "light"
     },
     "output_type": "display_data"
    }
   ],
   "source": [
    "linear_reg_plot(southern_df, 'Southern Humidity Vs Latitude Regression', 'Humidity', 'Humidity','Southern Humidity_vs_Lat.png', (10,0)) "
   ]
  },
  {
   "cell_type": "markdown",
   "metadata": {},
   "source": [
    "####  Northern Hemisphere - Cloudiness (%) vs. Latitude Linear Regression"
   ]
  },
  {
   "cell_type": "code",
   "execution_count": 30,
   "metadata": {},
   "outputs": [
    {
     "name": "stdout",
     "output_type": "stream",
     "text": [
      "The r-squared is: -0.06588055131026015\n"
     ]
    },
    {
     "data": {
      "image/png": "[encoded data removed]",
      "text/plain": [
       "<Figure size 432x288 with 1 Axes>"
      ]
     },
     "metadata": {
      "needs_background": "light"
     },
     "output_type": "display_data"
    }
   ],
   "source": [
    "linear_reg_plot(northern_df, 'Northern Cloudiness Vs Latitude Regression', 'Clouds', 'Clouds','Northern Clouds_vs_Lat.png', (10,0)) "
   ]
  },
  {
   "cell_type": "markdown",
   "metadata": {},
   "source": [
    "####  Southern Hemisphere - Cloudiness (%) vs. Latitude Linear Regression"
   ]
  },
  {
   "cell_type": "code",
   "execution_count": 31,
   "metadata": {},
   "outputs": [
    {
     "name": "stdout",
     "output_type": "stream",
     "text": [
      "The r-squared is: -0.03379396763451164\n"
     ]
    },
    {
     "data": {
      "image/png": "[encoded data removed]",
      "text/plain": [
       "<Figure size 432x288 with 1 Axes>"
      ]
     },
     "metadata": {
      "needs_background": "light"
     },
     "output_type": "display_data"
    }
   ],
   "source": [
    "linear_reg_plot(southern_df, 'Southern Cloudiness Vs Latitude Regression', 'Clouds', 'Clouds','Southern Clouds_vs_Lat.png', (10,0)) "
   ]
  },
  {
   "cell_type": "markdown",
   "metadata": {},
   "source": [
    "####  Northern Hemisphere - Wind Speed (mph) vs. Latitude Linear Regression"
   ]
  },
  {
   "cell_type": "code",
   "execution_count": 32,
   "metadata": {},
   "outputs": [
    {
     "name": "stdout",
     "output_type": "stream",
     "text": [
      "The r-squared is: -0.027209394284674462\n"
     ]
    },
    {
     "data": {
      "image/png": "[encoded data removed]",
      "text/plain": [
       "<Figure size 432x288 with 1 Axes>"
      ]
     },
     "metadata": {
      "needs_background": "light"
     },
     "output_type": "display_data"
    }
   ],
   "source": [
    "linear_reg_plot(northern_df, 'Northern Wind Speed Vs Latitude Regression', 'Wind', 'Wind','Northern Wind_vs_Lat.png', (10,0)) "
   ]
  },
  {
   "cell_type": "markdown",
   "metadata": {},
   "source": [
    "####  Southern Hemisphere - Wind Speed (mph) vs. Latitude Linear Regression"
   ]
  },
  {
   "cell_type": "code",
   "execution_count": 33,
   "metadata": {},
   "outputs": [
    {
     "name": "stdout",
     "output_type": "stream",
     "text": [
      "The r-squared is: -0.08420679003423788\n"
     ]
    },
    {
     "data": {
      "image/png": "[encoded data removed]",
      "text/plain": [
       "<Figure size 432x288 with 1 Axes>"
      ]
     },
     "metadata": {
      "needs_background": "light"
     },
     "output_type": "display_data"
    }
   ],
   "source": [
    "linear_reg_plot(southern_df, 'Southern Wind Speed Vs Latitude Regression', 'Wind', 'Wind','Southern Wind_vs_Lat.png', (10,0)) "
   ]
  },
  {
   "cell_type": "code",
   "execution_count": null,
   "metadata": {},
   "outputs": [],
   "source": []
  }
 ],
 "metadata": {
  "anaconda-cloud": {},
  "kernel_info": {
   "name": "python3"
  },
  "kernelspec": {
   "display_name": "Python 3",
   "language": "python",
   "name": "python3"
  },
  "language_info": {
   "codemirror_mode": {
    "name": "ipython",
    "version": 3
   },
   "file_extension": ".py",
   "mimetype": "text/x-python",
   "name": "python",
   "nbconvert_exporter": "python",
   "pygments_lexer": "ipython3",
   "version": "3.7.6"
  },
  "latex_envs": {
   "LaTeX_envs_menu_present": true,
   "autoclose": false,
   "autocomplete": true,
   "bibliofile": "biblio.bib",
   "cite_by": "apalike",
   "current_citInitial": 1,
   "eqLabelWithNumbers": true,
   "eqNumInitial": 1,
   "hotkeys": {
    "equation": "Ctrl-E",
    "itemize": "Ctrl-I"
   },
   "labels_anchors": false,
   "latex_user_defs": false,
   "report_style_numbering": false,
   "user_envs_cfg": false
  },
  "nteract": {
   "version": "0.12.3"
  }
 },
 "nbformat": 4,
 "nbformat_minor": 4
}
